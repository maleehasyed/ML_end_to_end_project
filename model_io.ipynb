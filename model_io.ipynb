{
 "cells": [
  {
   "cell_type": "markdown",
   "id": "6455ab15-308b-4214-bd89-766bfe6e73d3",
   "metadata": {},
   "source": [
    "**MODEL SAVING AND LOADING**"
   ]
  },
  {
   "cell_type": "code",
   "execution_count": 5,
   "id": "78512104-7b9a-4aab-a1d5-fe6448e6673c",
   "metadata": {},
   "outputs": [],
   "source": [
    "import joblib\n",
    "from sklearn.linear_model import LogisticRegression"
   ]
  },
  {
   "cell_type": "code",
   "execution_count": 6,
   "id": "eeab838c-99c9-4059-9915-004cc3118caf",
   "metadata": {},
   "outputs": [],
   "source": [
    "#saving the model\n",
    "def save_model(model, filename='iris_model.joblib'):\n",
    "    joblib.dump(model, filename)\n",
    "    print(f\"Model saved as {filename}\")"
   ]
  },
  {
   "cell_type": "code",
   "execution_count": 7,
   "id": "4f588aa4-b440-4619-86e4-c69c8d28ba34",
   "metadata": {},
   "outputs": [],
   "source": [
    "#loading the model\n",
    "def load_model(filename='iris_model.joblib'):\n",
    "    model = joblib.load(filename)\n",
    "    print(f\"Model loaded from {filename}\")\n",
    "    return model"
   ]
  },
  {
   "cell_type": "code",
   "execution_count": 8,
   "id": "c49c633c-d810-4924-a2f2-d9b3443cdf02",
   "metadata": {},
   "outputs": [
    {
     "name": "stderr",
     "output_type": "stream",
     "text": [
      "[NbConvertApp] Converting notebook model_io.ipynb to script\n",
      "[NbConvertApp] Writing 478 bytes to model_io.py\n"
     ]
    }
   ],
   "source": [
    "!jupyter nbconvert --to script model_io.ipynb"
   ]
  }
 ],
 "metadata": {
  "kernelspec": {
   "display_name": "Python 3 (ipykernel)",
   "language": "python",
   "name": "python3"
  },
  "language_info": {
   "codemirror_mode": {
    "name": "ipython",
    "version": 3
   },
   "file_extension": ".py",
   "mimetype": "text/x-python",
   "name": "python",
   "nbconvert_exporter": "python",
   "pygments_lexer": "ipython3",
   "version": "3.12.4"
  }
 },
 "nbformat": 4,
 "nbformat_minor": 5
}
