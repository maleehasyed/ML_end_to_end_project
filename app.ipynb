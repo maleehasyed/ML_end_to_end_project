{
 "cells": [
  {
   "cell_type": "markdown",
   "id": "e955529c-8a4b-4072-87aa-85cc494717c4",
   "metadata": {},
   "source": [
    "**Deployment at Hugging Face with a Simple UI**"
   ]
  },
  {
   "cell_type": "code",
   "execution_count": 2,
   "id": "f975bdf3-a528-46f4-85a5-6ef0cd18e463",
   "metadata": {},
   "outputs": [],
   "source": [
    "import gradio as gr\n",
    "import joblib\n",
    "import pandas as pd\n",
    "from sklearn.datasets import load_iris"
   ]
  },
  {
   "cell_type": "code",
   "execution_count": 3,
   "id": "5d0498dd-1724-49f0-ac5d-5a81b23f5260",
   "metadata": {},
   "outputs": [],
   "source": [
    "#load the model\n",
    "model = joblib.load('iris_model.joblib')\n",
    "scaler = joblib.load('scaler.joblib')\n",
    "iris = load_iris()"
   ]
  },
  {
   "cell_type": "code",
   "execution_count": 4,
   "id": "4aff8fa9-d2b2-4086-8266-362775f77f98",
   "metadata": {},
   "outputs": [],
   "source": [
    "#define the prediction function\n",
    "def predict_iris(sepal_length, sepal_width, petal_length, petal_width):\n",
    "    try:\n",
    "        #create a DataFrame from the user inputs\n",
    "        input_data = pd.DataFrame([[sepal_length, sepal_width, petal_length, petal_width]],\n",
    "                                  columns=['sepal length (cm)', 'sepal width (cm)', 'petal length (cm)', 'petal width (cm)'])\n",
    "         #print the input data for debugging\n",
    "        print(\"Input Data:\")\n",
    "        print(input_data)\n",
    "        \n",
    "        #apply the scaler to the input data\n",
    "        input_data_scaled = scaler.transform(input_data)\n",
    "\n",
    "        # Convert to DataFrame with feature names\n",
    "        input_data_scaled_df = pd.DataFrame(input_data_scaled, columns=['sepal length (cm)', 'sepal width (cm)', 'petal length (cm)', 'petal width (cm)'])\n",
    "        \n",
    "        #print the scaled data for debugging\n",
    "        print(\"Scaled Data:\")\n",
    "        print(input_data_scaled)\n",
    "\n",
    "        #make predictions\n",
    "        prediction = model.predict(input_data_scaled)\n",
    "        \n",
    "        #print the prediction for debugging\n",
    "        print(\"Prediction:\")\n",
    "        print(prediction)\n",
    "\n",
    "        #return the predicted species name\n",
    "        return iris.target_names[prediction[0]]\n",
    "\n",
    "    except Exception as e:\n",
    "        print(f\"An error occurred: {e}\")\n",
    "        return str(e)"
   ]
  },
  {
   "cell_type": "code",
   "execution_count": 6,
   "id": "2e51d8ef-861b-4014-9a80-6d0394929e60",
   "metadata": {},
   "outputs": [
    {
     "name": "stdout",
     "output_type": "stream",
     "text": [
      "* Running on local URL:  http://127.0.0.1:7865\n",
      "\n",
      "To create a public link, set `share=True` in `launch()`.\n"
     ]
    },
    {
     "data": {
      "text/html": [
       "<div><iframe src=\"http://127.0.0.1:7865/\" width=\"100%\" height=\"500\" allow=\"autoplay; camera; microphone; clipboard-read; clipboard-write;\" frameborder=\"0\" allowfullscreen></iframe></div>"
      ],
      "text/plain": [
       "<IPython.core.display.HTML object>"
      ]
     },
     "metadata": {},
     "output_type": "display_data"
    },
    {
     "data": {
      "text/plain": []
     },
     "execution_count": 6,
     "metadata": {},
     "output_type": "execute_result"
    },
    {
     "name": "stderr",
     "output_type": "stream",
     "text": [
      "C:\\Users\\malee\\anaconda3\\Lib\\site-packages\\gradio\\analytics.py:102: UserWarning: IMPORTANT: You are using gradio version 5.0.0, however version 5.0.1 is available, please upgrade. \n",
      "--------\n",
      "  warnings.warn(\n"
     ]
    }
   ],
   "source": [
    "# Create the Gradio interface\n",
    "gr.Interface(\n",
    "    fn=predict_iris,\n",
    "    inputs=[\n",
    "        gr.Number(label=\"Sepal Length\"), \n",
    "        gr.Number(label=\"Sepal Width\"),\n",
    "        gr.Number(label=\"Petal Length\"), \n",
    "        gr.Number(label=\"Petal Width\")\n",
    "    ],\n",
    "    outputs=\"text\",\n",
    "    title=\"Iris Species Predictor\"\n",
    ").launch()"
   ]
  },
  {
   "cell_type": "code",
   "execution_count": 10,
   "id": "5da512a2-4116-4d77-ac6a-261b0cf858bb",
   "metadata": {},
   "outputs": [
    {
     "name": "stderr",
     "output_type": "stream",
     "text": [
      "[NbConvertApp] Converting notebook app.ipynb to script\n",
      "[NbConvertApp] Writing 2029 bytes to app.py\n"
     ]
    }
   ],
   "source": [
    "!jupyter nbconvert --to script app.ipynb"
   ]
  }
 ],
 "metadata": {
  "kernelspec": {
   "display_name": "Python 3 (ipykernel)",
   "language": "python",
   "name": "python3"
  },
  "language_info": {
   "codemirror_mode": {
    "name": "ipython",
    "version": 3
   },
   "file_extension": ".py",
   "mimetype": "text/x-python",
   "name": "python",
   "nbconvert_exporter": "python",
   "pygments_lexer": "ipython3",
   "version": "3.12.4"
  }
 },
 "nbformat": 4,
 "nbformat_minor": 5
}
