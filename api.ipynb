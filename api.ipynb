{
 "cells": [
  {
   "cell_type": "markdown",
   "id": "7bad60b6-6b1d-4345-981c-4426486cccf7",
   "metadata": {},
   "source": [
    "**FastAPI ENDPOINT FOR THE MODEL**"
   ]
  },
  {
   "cell_type": "code",
   "execution_count": 1,
   "id": "a6412ff7-64aa-4766-9c79-552439fad40b",
   "metadata": {},
   "outputs": [],
   "source": [
    "from fastapi import FastAPI\n",
    "import pandas as pd\n",
    "from pydantic import BaseModel\n",
    "import joblib"
   ]
  },
  {
   "cell_type": "code",
   "execution_count": 2,
   "id": "6cd0db5d-abb9-40b3-a26b-1f8195730403",
   "metadata": {},
   "outputs": [],
   "source": [
    "#load the model\n",
    "model = joblib.load('iris_model.joblib')"
   ]
  },
  {
   "cell_type": "code",
   "execution_count": 3,
   "id": "7a318c84-bea0-4b6d-b701-5f4a696b697a",
   "metadata": {},
   "outputs": [],
   "source": [
    "#initialize FastAPI app\n",
    "app = FastAPI()"
   ]
  },
  {
   "cell_type": "code",
   "execution_count": 4,
   "id": "4f158b1f-1e07-4620-ac96-6503ee650a81",
   "metadata": {},
   "outputs": [],
   "source": [
    "#defining input data model for FastAPI\n",
    "class IrisInput(BaseModel):\n",
    "    sepal_length: float\n",
    "    sepal_width: float\n",
    "    petal_length: float\n",
    "    petal_width: float"
   ]
  },
  {
   "cell_type": "code",
   "execution_count": 5,
   "id": "2f576b5c-de33-4253-8aff-fbd3ac4f1b75",
   "metadata": {},
   "outputs": [],
   "source": [
    "#define a prediction endpoint\n",
    "@app.post(\"/predict\")\n",
    "def predict(input_data: IrisInput):\n",
    "    #convert input data to DataFrame\n",
    "    input_df = pd.DataFrame([input_data.dict()])\n",
    "     # Make predictions\n",
    "    prediction = model.predict(input_df)\n",
    "    return {\"prediction\": int(prediction[0])}"
   ]
  },
  {
   "cell_type": "code",
   "execution_count": 6,
   "id": "bb9a5bf5-d4c5-4cf4-8024-1afed2ada1ab",
   "metadata": {},
   "outputs": [
    {
     "name": "stderr",
     "output_type": "stream",
     "text": [
      "[NbConvertApp] Converting notebook api.ipynb to script\n",
      "[NbConvertApp] Writing 854 bytes to api.py\n"
     ]
    }
   ],
   "source": [
    "!jupyter nbconvert --to script api.ipynb"
   ]
  }
 ],
 "metadata": {
  "kernelspec": {
   "display_name": "Python 3 (ipykernel)",
   "language": "python",
   "name": "python3"
  },
  "language_info": {
   "codemirror_mode": {
    "name": "ipython",
    "version": 3
   },
   "file_extension": ".py",
   "mimetype": "text/x-python",
   "name": "python",
   "nbconvert_exporter": "python",
   "pygments_lexer": "ipython3",
   "version": "3.12.4"
  }
 },
 "nbformat": 4,
 "nbformat_minor": 5
}
